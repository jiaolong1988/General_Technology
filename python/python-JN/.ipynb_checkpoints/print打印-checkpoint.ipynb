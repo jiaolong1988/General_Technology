{
 "cells": [
  {
   "cell_type": "markdown",
   "metadata": {},
   "source": [
    "# 打印方式1：%打印"
   ]
  },
  {
   "cell_type": "markdown",
   "metadata": {},
   "source": [
    "```\n",
    "print格式规则：\n",
    "%[flags][width].[precision]typecode\n",
    "flags可以为：+,-,0。\n",
    "    1、+表示右对齐。\n",
    "    2、-表示左对齐。\n",
    "    3、0表示使用0填充。\n",
    "    \n",
    "width：表示显示宽度\n",
    "precision：表示小数点的精度\n",
    "\n",
    "typecode:\n",
    "\t%s    字符串 (采用str()的显示)\n",
    "\t%r    字符串 (采用repr()的显示)\n",
    "\t%c    单个字符\n",
    "\t%b    二进制整数\n",
    "\t%d    十进制整数\n",
    "\t%i    十进制整数\n",
    "\t%o    八进制整数\n",
    "\t%x    十六进制整数\n",
    "\t%e    指数 (基底写为e)\n",
    "\t%E    指数 (基底写为E)\n",
    "\t%f    浮点数\n",
    "\t%F    浮点数，与上相同\n",
    "\t%g    指数(e)或浮点数 (根据显示长度)\n",
    "```"
   ]
  },
  {
   "cell_type": "code",
   "execution_count": 60,
   "metadata": {
    "scrolled": false
   },
   "outputs": [
    {
     "name": "stdout",
     "output_type": "stream",
     "text": [
      "Name：Aviad      Age:25       Height:1.83    \n",
      "a         \n",
      "   5\n",
      " 2.300\n"
     ]
    }
   ],
   "source": [
    "#设定字符宽度\n",
    "print(\"Name：%-10s Age:%-8d Height:%-8.2f\" % (\"Aviad\",25,1.83) )\n",
    "\n",
    "# 打印16进制\n",
    "print(\"%-10x\" % 10)\n",
    "\n",
    "#打印10进制数字，从右向左打印\n",
    "print(\"%4d\" % 5)\n",
    "\n",
    "#打印浮点数\n",
    "print(\"%6.3f\" % 2.3)"
   ]
  },
  {
   "cell_type": "code",
   "execution_count": 53,
   "metadata": {},
   "outputs": [
    {
     "name": "stdout",
     "output_type": "stream",
     "text": [
      "          +1.80\n",
      "2.80\n"
     ]
    }
   ],
   "source": [
    "# *表示动态指定，第一个参数15 是第一个*的宽度指定，第二个参数 是第二个*号小数精度的指定。\n",
    "print(\"%+*.*f\" % (15, 2, 1.8))\n",
    "print(\"%-.*f\" % (2, 2.8))"
   ]
  },
  {
   "cell_type": "code",
   "execution_count": 55,
   "metadata": {
    "code_folding": []
   },
   "outputs": [
    {
     "name": "stdout",
     "output_type": "stream",
     "text": [
      "1     3      4.00\n",
      "1 到 1 之和为: 5050\n"
     ]
    }
   ],
   "source": [
    "print('%-2d  %+3s  %8.2f' % (1, 3, 4))\n",
    "print(\"1 到 %d 之和为: %d\" % (100, 5050))"
   ]
  },
  {
   "cell_type": "markdown",
   "metadata": {},
   "source": [
    "# 打印方式2：format格式化"
   ]
  },
  {
   "cell_type": "code",
   "execution_count": 57,
   "metadata": {},
   "outputs": [
    {
     "name": "stdout",
     "output_type": "stream",
     "text": [
      " 1  22  333\n"
     ]
    }
   ],
   "source": [
    "print('{0:2d} {1:3d} {2:4d}'.format(1, 22, 333))   "
   ]
  },
  {
   "cell_type": "code",
   "execution_count": null,
   "metadata": {},
   "outputs": [],
   "source": [
    "print('站点列表 {0}, {1}, 和 {other}。'.format('Google', 'Runoob', other='Taobao'))"
   ]
  },
  {
   "cell_type": "markdown",
   "metadata": {},
   "source": [
    "# 多字段打印"
   ]
  },
  {
   "cell_type": "code",
   "execution_count": 61,
   "metadata": {},
   "outputs": [
    {
     "name": "stdout",
     "output_type": "stream",
     "text": [
      "11 22 333\n"
     ]
    }
   ],
   "source": [
    "print(\"11\",\"22\",\"333\")"
   ]
  },
  {
   "cell_type": "markdown",
   "metadata": {},
   "source": [
    "# 不转义 打印"
   ]
  },
  {
   "cell_type": "code",
   "execution_count": 65,
   "metadata": {},
   "outputs": [
    {
     "name": "stdout",
     "output_type": "stream",
     "text": [
      "字符不转义： aa \\n\n",
      "aa \n",
      "\n"
     ]
    }
   ],
   "source": [
    "print(\"字符不转义：\", r\"aa \\n\")\n",
    "print(\"aa \\n\")"
   ]
  },
  {
   "cell_type": "code",
   "execution_count": null,
   "metadata": {},
   "outputs": [],
   "source": []
  }
 ],
 "metadata": {
  "kernelspec": {
   "display_name": "Python 3",
   "language": "python",
   "name": "python3"
  },
  "language_info": {
   "codemirror_mode": {
    "name": "ipython",
    "version": 3
   },
   "file_extension": ".py",
   "mimetype": "text/x-python",
   "name": "python",
   "nbconvert_exporter": "python",
   "pygments_lexer": "ipython3",
   "version": "3.7.1"
  },
  "toc": {
   "base_numbering": 1,
   "nav_menu": {},
   "number_sections": true,
   "sideBar": true,
   "skip_h1_title": false,
   "title_cell": "Table of Contents",
   "title_sidebar": "Contents",
   "toc_cell": false,
   "toc_position": {},
   "toc_section_display": true,
   "toc_window_display": false
  }
 },
 "nbformat": 4,
 "nbformat_minor": 2
}
