{
 "cells": [
  {
   "cell_type": "markdown",
   "metadata": {},
   "source": [
    "# 基础练习"
   ]
  },
  {
   "cell_type": "code",
   "execution_count": 1,
   "metadata": {},
   "outputs": [
    {
     "name": "stdout",
     "output_type": "stream",
     "text": [
      "hello world!\n"
     ]
    }
   ],
   "source": [
    "'''\n",
    "注释\n",
    "'''\n",
    "#注释\n",
    "print('hello world!')"
   ]
  },
  {
   "cell_type": "code",
   "execution_count": 4,
   "metadata": {},
   "outputs": [
    {
     "name": "stdout",
     "output_type": "stream",
     "text": [
      "4\n"
     ]
    }
   ],
   "source": [
    "a = 1 + \\\n",
    "3\n",
    "print(a)"
   ]
  },
  {
   "cell_type": "code",
   "execution_count": 16,
   "metadata": {},
   "outputs": [
    {
     "name": "stdout",
     "output_type": "stream",
     "text": [
      "jiaolong\n",
      "jiaolong chenglong\n",
      "jiaolongjiaolong\n"
     ]
    }
   ],
   "source": [
    "str = 'jiaolong'\n",
    "print(str[:])\n",
    "\n",
    "print(str + ' chenglong')\n",
    "print(str * 2)\n"
   ]
  },
  {
   "cell_type": "code",
   "execution_count": 25,
   "metadata": {},
   "outputs": [
    {
     "name": "stdout",
     "output_type": "stream",
     "text": [
      "input:sdfs\n",
      "sdfs"
     ]
    }
   ],
   "source": [
    "from sys import stdout\n",
    "x = input('input:')\n",
    "stdout.write(x)"
   ]
  },
  {
   "cell_type": "markdown",
   "metadata": {},
   "source": [
    "# 多变量"
   ]
  },
  {
   "cell_type": "code",
   "execution_count": 29,
   "metadata": {
    "scrolled": true
   },
   "outputs": [
    {
     "name": "stdout",
     "output_type": "stream",
     "text": [
      "1 1 1\n",
      "1\n",
      "3\n",
      "4\n"
     ]
    }
   ],
   "source": [
    "a = b = c = 1 \n",
    "print(a, b, c)\n",
    "\n",
    "d, e = 1, 3 \n",
    "print(d)\n",
    "print(e)\n",
    "\n",
    "f, g, h = 1, 2, d + e\n",
    "print(h)"
   ]
  },
  {
   "cell_type": "markdown",
   "metadata": {},
   "source": [
    "# print练习"
   ]
  },
  {
   "cell_type": "code",
   "execution_count": 39,
   "metadata": {
    "scrolled": true
   },
   "outputs": [
    {
     "name": "stdout",
     "output_type": "stream",
     "text": [
      "1 to 20 之和为：60\n",
      "11 no 换行 22\n"
     ]
    }
   ],
   "source": [
    "print('1 to %d 之和为：%d' %(20, 60))\n",
    "\n",
    "print( 11, end=\" no 换行 \" )\n",
    "print( 22)"
   ]
  },
  {
   "cell_type": "markdown",
   "metadata": {},
   "source": [
    "# 运算符（in、is、==）"
   ]
  },
  {
   "cell_type": "code",
   "execution_count": 41,
   "metadata": {},
   "outputs": [
    {
     "name": "stdout",
     "output_type": "stream",
     "text": [
      "a is in list\n",
      "b not in list\n"
     ]
    }
   ],
   "source": [
    "# in ， not in\n",
    "a = 10 \n",
    "b = 2\n",
    "list = [10,22]\n",
    "\n",
    "if a in list:\n",
    "    print('a is in list')\n",
    "\n",
    "if b not in list:\n",
    "    print('b not in list')"
   ]
  },
  {
   "cell_type": "code",
   "execution_count": 76,
   "metadata": {},
   "outputs": [
    {
     "name": "stdout",
     "output_type": "stream",
     "text": [
      "a is b\n",
      "1 is not 3\n"
     ]
    }
   ],
   "source": [
    "a = 1 \n",
    "b = 1\n",
    "if a is b :\n",
    "    print ('a is b')\n",
    "    \n",
    "b = 3 \n",
    "if a is not b :\n",
    "    print('%d is not %d' %(a, b))"
   ]
  },
  {
   "cell_type": "code",
   "execution_count": 70,
   "metadata": {},
   "outputs": [
    {
     "name": "stdout",
     "output_type": "stream",
     "text": [
      "False\n",
      "True\n"
     ]
    }
   ],
   "source": [
    "# is 比较 对象的地址是否是一致的\n",
    "# == 比较的是两个对象的值是否一样\n",
    "a = [10]\n",
    "b = [10] \n",
    "print(a is b)\n",
    "print(a == b)"
   ]
  },
  {
   "cell_type": "markdown",
   "metadata": {},
   "source": [
    "# if while"
   ]
  },
  {
   "cell_type": "code",
   "execution_count": 78,
   "metadata": {},
   "outputs": [
    {
     "name": "stdout",
     "output_type": "stream",
     "text": [
      "1\n",
      "2\n",
      "3\n",
      "5\n",
      "8\n",
      "13\n"
     ]
    }
   ],
   "source": [
    "a, b = 0, 1\n",
    "while b < 10: \n",
    "    a, b = b, a + b\n",
    "    print(b)"
   ]
  },
  {
   "cell_type": "code",
   "execution_count": 6,
   "metadata": {},
   "outputs": [
    {
     "name": "stdout",
     "output_type": "stream",
     "text": [
      "不能被整除\n"
     ]
    }
   ],
   "source": [
    "num = 11\n",
    "if num % 2 == 0:\n",
    "    print(\"被2整除\")\n",
    "elif num % 3 == 0:\n",
    "    print(\"被3 整除\")\n",
    "else:\n",
    "    print(\"不能被整除\")\n",
    "    "
   ]
  },
  {
   "cell_type": "markdown",
   "metadata": {},
   "source": [
    "# 循环"
   ]
  },
  {
   "cell_type": "code",
   "execution_count": 9,
   "metadata": {},
   "outputs": [
    {
     "name": "stdout",
     "output_type": "stream",
     "text": [
      "1\n",
      "2\n",
      "3\n",
      "4\n",
      "5\n",
      "6\n",
      "7\n",
      "8\n",
      "9\n",
      "while is end\n"
     ]
    }
   ],
   "source": [
    "flag = 1\n",
    "while flag < 10:\n",
    "    pass\n",
    "    print(flag)\n",
    "    flag += 1\n",
    "else:\n",
    "    print('while is end')"
   ]
  },
  {
   "cell_type": "code",
   "execution_count": 32,
   "metadata": {},
   "outputs": [
    {
     "name": "stdout",
     "output_type": "stream",
     "text": [
      "1\n",
      "3\n",
      "4\n",
      "5\n",
      "结束，执行break后，我将不再执行\n"
     ]
    }
   ],
   "source": [
    "list = [1, 2, 3, 4, 5]\n",
    "for x in list:\n",
    "    #结束次循环\n",
    "    if x == 4:\n",
    "        pass\n",
    "        break\n",
    "    #跳出当前循环，执行下一循环\n",
    "    if x == 2:\n",
    "        continue\n",
    "        \n",
    "    print(x)\n",
    "else:\n",
    "    print('结束，执行break后，我将不再执行')"
   ]
  }
 ],
 "metadata": {
  "kernelspec": {
   "display_name": "Python 3",
   "language": "python",
   "name": "python3"
  },
  "language_info": {
   "codemirror_mode": {
    "name": "ipython",
    "version": 3
   },
   "file_extension": ".py",
   "mimetype": "text/x-python",
   "name": "python",
   "nbconvert_exporter": "python",
   "pygments_lexer": "ipython3",
   "version": "3.7.1"
  },
  "toc": {
   "base_numbering": 1,
   "nav_menu": {},
   "number_sections": true,
   "sideBar": true,
   "skip_h1_title": false,
   "title_cell": "Table of Contents",
   "title_sidebar": "Contents",
   "toc_cell": false,
   "toc_position": {},
   "toc_section_display": true,
   "toc_window_display": false
  },
  "varInspector": {
   "cols": {
    "lenName": 16,
    "lenType": 16,
    "lenVar": 40
   },
   "kernels_config": {
    "python": {
     "delete_cmd_postfix": "",
     "delete_cmd_prefix": "del ",
     "library": "var_list.py",
     "varRefreshCmd": "print(var_dic_list())"
    },
    "r": {
     "delete_cmd_postfix": ") ",
     "delete_cmd_prefix": "rm(",
     "library": "var_list.r",
     "varRefreshCmd": "cat(var_dic_list()) "
    }
   },
   "types_to_exclude": [
    "module",
    "function",
    "builtin_function_or_method",
    "instance",
    "_Feature"
   ],
   "window_display": false
  }
 },
 "nbformat": 4,
 "nbformat_minor": 2
}
