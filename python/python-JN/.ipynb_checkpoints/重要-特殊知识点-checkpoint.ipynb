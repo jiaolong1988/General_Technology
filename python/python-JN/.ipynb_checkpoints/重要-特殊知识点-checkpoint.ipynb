{
 "cells": [
  {
   "cell_type": "markdown",
   "metadata": {},
   "source": [
    "# 集合设定默认值"
   ]
  },
  {
   "cell_type": "code",
   "execution_count": 4,
   "metadata": {},
   "outputs": [
    {
     "name": "stdout",
     "output_type": "stream",
     "text": [
      "{}\n",
      "0\n",
      "set()\n",
      "\n",
      "[]\n"
     ]
    }
   ],
   "source": [
    "# 集合设定默认值，不会出现异常\n",
    "from collections import defaultdict\n",
    "\n",
    "dict0 = defaultdict(dict)\n",
    "dict1 = defaultdict(int)\n",
    "dict2 = defaultdict(set)\n",
    "dict3 = defaultdict(str)\n",
    "dict4 = defaultdict(list)\n",
    "\n",
    "print(dict0[0])\n",
    "print(dict1[1])\n",
    "print(dict2[1])\n",
    "print(dict3[1])\n",
    "print(dict4[1])"
   ]
  },
  {
   "cell_type": "markdown",
   "metadata": {},
   "source": [
    "# 倒序输出"
   ]
  },
  {
   "cell_type": "code",
   "execution_count": 2,
   "metadata": {
    "scrolled": true
   },
   "outputs": [
    {
     "name": "stdout",
     "output_type": "stream",
     "text": [
      "[54, 4, 3, 2, 1]\n",
      "[1, 2, 3, 4, 54]\n"
     ]
    }
   ],
   "source": [
    "# 倒序输出\n",
    "a = [1,2,3,4,54]\n",
    "print(a[::-1])\n",
    "print(a[::])"
   ]
  },
  {
   "cell_type": "markdown",
   "metadata": {},
   "source": [
    "# 集合扩展"
   ]
  },
  {
   "cell_type": "code",
   "execution_count": 38,
   "metadata": {},
   "outputs": [
    {
     "name": "stdout",
     "output_type": "stream",
     "text": [
      "[1, 2] [2]\n",
      "[1, 2, 2]\n"
     ]
    }
   ],
   "source": [
    "# 集合扩展\n",
    "c, d = [1], [2]\n",
    "#向 c中添加 d\n",
    "c.extend(d)\n",
    "print(c, d)\n",
    "\n",
    "#不改原有对象的值，产生信息对象\n",
    "print(c + d)"
   ]
  },
  {
   "cell_type": "markdown",
   "metadata": {},
   "source": [
    "# lambda 表达式"
   ]
  },
  {
   "cell_type": "code",
   "execution_count": 40,
   "metadata": {},
   "outputs": [
    {
     "name": "stdout",
     "output_type": "stream",
     "text": [
      "6\n"
     ]
    }
   ],
   "source": [
    "# lambda 表达式\n",
    "sum = lambda a, b, c : a + b + c\n",
    "s = sum(1, 2, 3)\n",
    "print(s)"
   ]
  },
  {
   "cell_type": "markdown",
   "metadata": {},
   "source": [
    "# dict中最大值key"
   ]
  },
  {
   "cell_type": "code",
   "execution_count": 110,
   "metadata": {},
   "outputs": [
    {
     "name": "stdout",
     "output_type": "stream",
     "text": [
      "dict中最大值的索引： c\n"
     ]
    }
   ],
   "source": [
    "# dict中最大值的key\n",
    "dic = {'a':1, 'b':2, 'c':3}\n",
    "max_index = max(dic, key = dic.get)\n",
    "print('dict中最大值的索引：',max_index)"
   ]
  },
  {
   "cell_type": "markdown",
   "metadata": {},
   "source": [
    "# 获取 当前路径"
   ]
  },
  {
   "cell_type": "code",
   "execution_count": 113,
   "metadata": {},
   "outputs": [
    {
     "name": "stdout",
     "output_type": "stream",
     "text": [
      "当前文件路径： C:\\ProgramData\\Anaconda3\\lib\\site-packages\\ipykernel_launcher.py\n",
      "获取当前工作目录路径： C:\\work\\jupyter\\practice\\python\n",
      "获取当前工作的父目录： C:\\work\\jupyter\\practice\n"
     ]
    }
   ],
   "source": [
    "import sys\n",
    "import os\n",
    "\n",
    "print('当前文件路径：', sys.argv[0])\n",
    "print('获取当前工作目录路径：', os.getcwd())\n",
    "print('获取当前工作的父目录：', os.path.abspath('..'))"
   ]
  },
  {
   "cell_type": "markdown",
   "metadata": {},
   "source": [
    "# with使用方法"
   ]
  },
  {
   "cell_type": "code",
   "execution_count": 9,
   "metadata": {},
   "outputs": [
    {
     "name": "stdout",
     "output_type": "stream",
     "text": [
      "1-先调用：In __enter__()\n",
      "\n",
      "2-开始执行程序\n",
      "\n",
      "do_something。。。\n",
      "\n",
      "3-无论何时，都将最后执行__exit__方法\n",
      " 3-1异常类名称: None\n",
      " 3-2异常描述: None\n",
      " 3-3异常位置: None\n"
     ]
    }
   ],
   "source": [
    "# with使用方法\n",
    "# 1.类中必须__enter__()与__exit__()方法。\n",
    "# 2. 使用方法：with 类名() as 变量名:\n",
    "# 3.__enter__()方法先被调用，并将对象赋值给as后面的变量。\n",
    "# 无论什么情况，__exit__()方法，都将被执行\n",
    "\n",
    "# https://www.cnblogs.com/DswCnblog/p/6126588.html\n",
    "\n",
    "class Sample:\n",
    "    def __enter__(self):\n",
    "        print(\"1-先调用：In __enter__()\\n\")\n",
    "        return self\n",
    "\n",
    "    def __exit__(self, type, value, trace):\n",
    "        print(\"3-无论何时，都将最后执行__exit__方法\")\n",
    "        print(\" 3-1异常类名称:\", type)\n",
    "        print(\" 3-2异常描述:\", value)\n",
    "        print(\" 3-3异常位置:\", trace)\n",
    "\n",
    "    def do_something(self):\n",
    "        print('do_something。。。\\n')\n",
    "        bar = 1/1\n",
    "        return bar + 10\n",
    "\n",
    "with Sample() as obj:\n",
    "    print('2-开始执行程序\\n')\n",
    "    obj.do_something()"
   ]
  },
  {
   "cell_type": "code",
   "execution_count": null,
   "metadata": {},
   "outputs": [],
   "source": []
  }
 ],
 "metadata": {
  "kernelspec": {
   "display_name": "Python 3",
   "language": "python",
   "name": "python3"
  },
  "language_info": {
   "codemirror_mode": {
    "name": "ipython",
    "version": 3
   },
   "file_extension": ".py",
   "mimetype": "text/x-python",
   "name": "python",
   "nbconvert_exporter": "python",
   "pygments_lexer": "ipython3",
   "version": "3.7.1"
  },
  "toc": {
   "base_numbering": 1,
   "nav_menu": {},
   "number_sections": true,
   "sideBar": true,
   "skip_h1_title": false,
   "title_cell": "Table of Contents",
   "title_sidebar": "Contents",
   "toc_cell": false,
   "toc_position": {},
   "toc_section_display": true,
   "toc_window_display": false
  }
 },
 "nbformat": 4,
 "nbformat_minor": 2
}
