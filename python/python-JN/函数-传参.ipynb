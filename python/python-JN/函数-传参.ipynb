{
 "cells": [
  {
   "cell_type": "markdown",
   "metadata": {},
   "source": [
    "# 函数-不可变对象"
   ]
  },
  {
   "cell_type": "code",
   "execution_count": 3,
   "metadata": {},
   "outputs": [
    {
     "name": "stdout",
     "output_type": "stream",
     "text": [
      "a变量的值未改变： 2\n"
     ]
    }
   ],
   "source": [
    "a= 2\n",
    "def changeInt(a):\n",
    "    a = 10\n",
    "\n",
    "changeInt(a) \n",
    "\n",
    "print('a变量的值未改变：',a)"
   ]
  },
  {
   "cell_type": "markdown",
   "metadata": {},
   "source": [
    "# 函数-变对象"
   ]
  },
  {
   "cell_type": "code",
   "execution_count": 3,
   "metadata": {},
   "outputs": [
    {
     "name": "stdout",
     "output_type": "stream",
     "text": [
      "函数内取值:  [10, 30, 40, [1, 2, 3, 4]]\n",
      "list 列表的内容可变： [10, 30, 40, [1, 2, 3, 4]]\n"
     ]
    }
   ],
   "source": [
    "\n",
    "def changeme(mylist):\n",
    "    \"修改传入的列表\"\n",
    "    mylist.append([1,2,3,4])\n",
    "    print (\"函数内取值: \", mylist)\n",
    "\n",
    "mylist = [10,30,40]\n",
    "changeme(mylist) #传的是 可修改参数\n",
    "print('list 列表的内容可变：',mylist)"
   ]
  },
  {
   "cell_type": "markdown",
   "metadata": {},
   "source": [
    "# 可变参数-普通变量"
   ]
  },
  {
   "cell_type": "code",
   "execution_count": 4,
   "metadata": {},
   "outputs": [
    {
     "name": "stdout",
     "output_type": "stream",
     "text": [
      "11\n",
      "可变参数： (33, 44, 66, 77)\n"
     ]
    }
   ],
   "source": [
    "def printVarInfo(arg, *vartuple):\n",
    "    '''打印可变参数'''\n",
    "    print(arg)\n",
    "    print('可变参数：', vartuple)\n",
    "    \n",
    "printVarInfo(11,33,44,66,77)"
   ]
  },
  {
   "cell_type": "markdown",
   "metadata": {},
   "source": [
    "# 可变参数-字典变量"
   ]
  },
  {
   "cell_type": "code",
   "execution_count": 8,
   "metadata": {},
   "outputs": [
    {
     "name": "stdout",
     "output_type": "stream",
     "text": [
      "字典类型可变参数： {'a': 1, 'b': 2, 'c': 3}\n"
     ]
    }
   ],
   "source": [
    "def printVardict(arg1, **vardict ):\n",
    "    '''输入可变参数，可变参数为字典类型'''\n",
    "    print('字典类型可变参数：', vardict)\n",
    "printVardict(11,a=1,b=2,c=3)"
   ]
  },
  {
   "cell_type": "markdown",
   "metadata": {
    "code_folding": []
   },
   "source": [
    "# 参数名传参"
   ]
  },
  {
   "cell_type": "code",
   "execution_count": 10,
   "metadata": {},
   "outputs": [
    {
     "name": "stdout",
     "output_type": "stream",
     "text": [
      "30\n"
     ]
    }
   ],
   "source": [
    "# *后边的参数，必须 使用参数名传入\n",
    "def varinfo(a, b, *, c, d):\n",
    "    return c + d\n",
    "\n",
    "print(varinfo(1, 3, d=20, c=10))"
   ]
  },
  {
   "cell_type": "code",
   "execution_count": null,
   "metadata": {},
   "outputs": [],
   "source": []
  }
 ],
 "metadata": {
  "kernelspec": {
   "display_name": "Python 3",
   "language": "python",
   "name": "python3"
  },
  "language_info": {
   "codemirror_mode": {
    "name": "ipython",
    "version": 3
   },
   "file_extension": ".py",
   "mimetype": "text/x-python",
   "name": "python",
   "nbconvert_exporter": "python",
   "pygments_lexer": "ipython3",
   "version": "3.7.1"
  },
  "toc": {
   "base_numbering": 1,
   "nav_menu": {},
   "number_sections": true,
   "sideBar": true,
   "skip_h1_title": false,
   "title_cell": "Table of Contents",
   "title_sidebar": "Contents",
   "toc_cell": false,
   "toc_position": {},
   "toc_section_display": true,
   "toc_window_display": false
  }
 },
 "nbformat": 4,
 "nbformat_minor": 2
}
